{
 "cells": [
  {
   "cell_type": "code",
   "execution_count": 1,
   "metadata": {},
   "outputs": [],
   "source": [
    "from sklearn.model_selection import train_test_split\n",
    "from sklearn.neighbors import KNeighborsClassifier\n",
    "from sklearn import datasets"
   ]
  },
  {
   "cell_type": "code",
   "execution_count": 8,
   "metadata": {},
   "outputs": [
    {
     "name": "stdout",
     "output_type": "stream",
     "text": [
      "Iris Data set is loaded\n"
     ]
    }
   ],
   "source": [
    "iris=datasets.load_iris()\n",
    "print(\"Iris Data set is loaded\")"
   ]
  },
  {
   "cell_type": "code",
   "execution_count": 3,
   "metadata": {},
   "outputs": [
    {
     "name": "stdout",
     "output_type": "stream",
     "text": [
      "Dataset is split into training and testing...\n",
      "Size of training data and its label (135, 4) (135,)\n",
      "Size of training data and its label (15, 4) (15,)\n"
     ]
    }
   ],
   "source": [
    "x_train,x_test,y_train,y_test=train_test_split(iris.data,iris.target,test_size=0.1)\n",
    "print(\"Dataset is split into training and testing...\")\n",
    "print(\"Size of training data and its label\",x_train.shape,y_train.shape)\n",
    "print(\"Size of training data and its label\",x_test.shape,y_test.shape)"
   ]
  },
  {
   "cell_type": "code",
   "execution_count": 4,
   "metadata": {},
   "outputs": [
    {
     "name": "stdout",
     "output_type": "stream",
     "text": [
      "Label 0 - setosa\n",
      "Label 1 - versicolor\n",
      "Label 2 - virginica\n"
     ]
    }
   ],
   "source": [
    "for i in range(len(iris.target_names)):\n",
    "    print(\"Label\",i,\"-\",str(iris.target_names[i]))"
   ]
  },
  {
   "cell_type": "code",
   "execution_count": 5,
   "metadata": {},
   "outputs": [
    {
     "name": "stdout",
     "output_type": "stream",
     "text": [
      "Results of classification using K-nn with K=1\n",
      "Sample: [7.2 3.2 6.  1.8] Actual Label: 2 Predicted label: 2\n",
      "Sample: [6.4 2.8 5.6 2.2] Actual Label: 2 Predicted label: 2\n",
      "Sample: [6.2 2.8 4.8 1.8] Actual Label: 2 Predicted label: 2\n",
      "Sample: [6.3 2.9 5.6 1.8] Actual Label: 2 Predicted label: 2\n",
      "Sample: [6.  2.2 5.  1.5] Actual Label: 2 Predicted label: 1\n",
      "Sample: [6.1 3.  4.9 1.8] Actual Label: 2 Predicted label: 2\n",
      "Sample: [7.2 3.  5.8 1.6] Actual Label: 2 Predicted label: 2\n",
      "Sample: [6.3 3.3 4.7 1.6] Actual Label: 1 Predicted label: 1\n",
      "Sample: [5.7 3.8 1.7 0.3] Actual Label: 0 Predicted label: 0\n",
      "Sample: [7.7 2.6 6.9 2.3] Actual Label: 2 Predicted label: 2\n",
      "Sample: [6.  2.7 5.1 1.6] Actual Label: 1 Predicted label: 2\n",
      "Sample: [6.1 2.8 4.7 1.2] Actual Label: 1 Predicted label: 1\n",
      "Sample: [4.9 3.6 1.4 0.1] Actual Label: 0 Predicted label: 0\n",
      "Sample: [5.  3.4 1.6 0.4] Actual Label: 0 Predicted label: 0\n",
      "Sample: [6.3 3.3 6.  2.5] Actual Label: 2 Predicted label: 2\n",
      "Classification Accuracy: 0.8666666666666667\n"
     ]
    }
   ],
   "source": [
    "classifier=KNeighborsClassifier(n_neighbors=1)\n",
    "classifier.fit(x_train,y_train)\n",
    "y_pred=classifier.predict(x_test)\n",
    "print(\"Results of classification using K-nn with K=1\")\n",
    "for r in range(0,len(x_test)):\n",
    "    print(\"Sample:\",str(x_test[r]), \"Actual Label:\",str(y_test[r]), \"Predicted label:\",str(y_pred[r]))\n",
    "print(\"Classification Accuracy:\",classifier.score(x_test,y_test));"
   ]
  },
  {
   "cell_type": "code",
   "execution_count": 6,
   "metadata": {},
   "outputs": [],
   "source": [
    "from sklearn.metrics import classification_report,confusion_matrix\n",
    "from sklearn.metrics import accuracy_score"
   ]
  },
  {
   "cell_type": "code",
   "execution_count": 7,
   "metadata": {},
   "outputs": [
    {
     "name": "stdout",
     "output_type": "stream",
     "text": [
      "Confusion matrix\n",
      "[[3 0 0]\n",
      " [0 2 1]\n",
      " [0 1 8]]\n",
      "accuracy Metrics\n",
      "              precision    recall  f1-score   support\n",
      "\n",
      "           0       1.00      1.00      1.00         3\n",
      "           1       0.67      0.67      0.67         3\n",
      "           2       0.89      0.89      0.89         9\n",
      "\n",
      "    accuracy                           0.87        15\n",
      "   macro avg       0.85      0.85      0.85        15\n",
      "weighted avg       0.87      0.87      0.87        15\n",
      "\n",
      "correct prediction 0.8666666666666667\n",
      "Wrong prediction 0.1333333333333333\n"
     ]
    }
   ],
   "source": [
    "print('Confusion matrix')\n",
    "print(confusion_matrix(y_test,y_pred))\n",
    "print('accuracy Metrics')\n",
    "print(classification_report(y_test,y_pred))\n",
    "print(\"correct prediction\",accuracy_score(y_test,y_pred))\n",
    "print(\"Wrong prediction\",1-accuracy_score(y_test,y_pred))"
   ]
  },
  {
   "cell_type": "code",
   "execution_count": null,
   "metadata": {},
   "outputs": [],
   "source": []
  }
 ],
 "metadata": {
  "kernelspec": {
   "display_name": "Python 3",
   "language": "python",
   "name": "python3"
  },
  "language_info": {
   "codemirror_mode": {
    "name": "ipython",
    "version": 3
   },
   "file_extension": ".py",
   "mimetype": "text/x-python",
   "name": "python",
   "nbconvert_exporter": "python",
   "pygments_lexer": "ipython3",
   "version": "3.8.3"
  }
 },
 "nbformat": 4,
 "nbformat_minor": 4
}
